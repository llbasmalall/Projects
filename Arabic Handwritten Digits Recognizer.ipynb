{
 "cells": [
  {
   "cell_type": "code",
   "execution_count": 11,
   "id": "51fb5749",
   "metadata": {},
   "outputs": [],
   "source": [
    "import numpy as np\n",
    "import pandas as pd\n",
    "import tensorflow as tf\n",
    "import seaborn as sns\n",
    "import matplotlib.pyplot as plt\n",
    "from keras.utils.np_utils import to_categorical # convert to one-hot-encoding\n",
    "from sklearn.model_selection import train_test_split\n",
    "from sklearn.metrics import accuracy_score, precision_score, recall_score, f1_score\n",
    "from tensorflow.keras import layers, models"
   ]
  },
  {
   "cell_type": "code",
   "execution_count": 36,
   "id": "85c9d08e",
   "metadata": {},
   "outputs": [
    {
     "name": "stdout",
     "output_type": "stream",
     "text": [
      "(59999, 784)\n",
      "(59999, 1)\n",
      "(9999, 784)\n",
      "(9999, 1)\n",
      "(59999, 784)\n",
      "(59999,)\n",
      "(59999, 28, 28, 1)\n",
      "(59999,)\n",
      "(9999, 28, 28, 1)\n",
      "(9999,)\n"
     ]
    },
    {
     "name": "stderr",
     "output_type": "stream",
     "text": [
      "C:\\Users\\Tony\\anaconda3\\lib\\site-packages\\seaborn\\_decorators.py:36: FutureWarning: Pass the following variable as a keyword arg: x. From version 0.12, the only valid positional argument will be `data`, and passing other arguments without an explicit keyword will result in an error or misinterpretation.\n",
      "  warnings.warn(\n",
      "C:\\Users\\Tony\\anaconda3\\lib\\site-packages\\seaborn\\_decorators.py:36: FutureWarning: Pass the following variable as a keyword arg: x. From version 0.12, the only valid positional argument will be `data`, and passing other arguments without an explicit keyword will result in an error or misinterpretation.\n",
      "  warnings.warn(\n"
     ]
    },
    {
     "name": "stdout",
     "output_type": "stream",
     "text": [
      "(59999, 10)\n",
      "(9999, 10)\n"
     ]
    },
    {
     "data": {
      "image/png": "[encoded data removed]",
      "text/plain": [
       "<Figure size 640x480 with 1 Axes>"
      ]
     },
     "metadata": {},
     "output_type": "display_data"
    }
   ],
   "source": [
    "X_train = pd.read_csv(r\"C:\\Users\\Basmala\\Desktop\\Computer & Data Science\\Machine Learning\\Arabic Handwritten Digits\\csvTrainImages 60k x 784.csv\")\n",
    "Y_train = pd.read_csv(r\"C:\\Users\\Basmala\\Desktop\\Computer & Data Science\\Machine Learning\\Arabic Handwritten Digits\\csvTrainLabel 60k x 1.csv\")\n",
    "X_test = pd.read_csv(r\"C:\\Users\\Basmala\\Desktop\\Computer & Data Science\\Machine Learning\\Arabic Handwritten Digits\\csvTestImages 10k x 784.csv\")\n",
    "Y_test = pd.read_csv(r\"C:\\Users\\Basmala\\Desktop\\Computer & Data Science\\Machine Learning\\Arabic Handwritten Digits\\csvTestLabel 10k x 1.csv\")\n",
    "\n",
    "print(X_train.shape)\n",
    "print(Y_train.shape)\n",
    "print(X_test.shape)\n",
    "print(Y_test.shape)\n",
    "\n",
    "plot_showing = sns.countplot(Y_train.iloc[:,0])\n",
    "Y_train = Y_train.iloc[:,0]\n",
    "Y_train.value_counts()\n",
    "\n",
    "plot_showing_test = sns.countplot(Y_test.iloc[:,0])\n",
    "Y_test = Y_test.iloc[:,0]\n",
    "Y_test.value_counts()\n",
    "\n",
    "X_train.isnull().any().describe()\n",
    "\n",
    "X_test.isnull().any().describe()\n",
    "\n",
    "X_train = X_train / 255.0\n",
    "X_test = X_test / 255.0\n",
    "\n",
    "print(X_train.shape)\n",
    "print(Y_train.shape)\n",
    "\n",
    "X_train = X_train.values.reshape(-1,28,28,1)\n",
    "X_test = X_test.values.reshape(-1,28,28,1)\n",
    "\n",
    "print(X_train.shape)\n",
    "print(Y_train.shape)\n",
    "\n",
    "print(X_test.shape)\n",
    "print(Y_test.shape)\n",
    "\n",
    "num_of_classes = 10\n",
    "Y_train_encoded = np.eye(num_of_classes)[Y_train]\n",
    "Y_test_encoded = np.eye(num_of_classes)[Y_test]\n",
    "\n",
    "Y_train = to_categorical(Y_train, num_classes = num_of_classes)\n",
    "Y_test  = to_categorical(Y_test , num_classes = num_of_classes)\n",
    "\n",
    "print(Y_train_encoded.shape)\n",
    "print(Y_test_encoded.shape)\n",
    "\n",
    "\n"
   ]
  },
  {
   "cell_type": "code",
   "execution_count": 37,
   "id": "c5d12d3a",
   "metadata": {},
   "outputs": [],
   "source": [
    "X_train, X_val, Y_train, Y_val = train_test_split(X_train, Y_train, test_size = 0.3, random_state=2)\n",
    "\n",
    "# Define the CNN model\n",
    "filter_size = 3  # Customize the filter size\n",
    "model = models.Sequential()\n",
    "model.add(layers.Conv2D(32, kernel_size=(filter_size, filter_size), activation='relu'))\n",
    "model.add(layers.MaxPooling2D(pool_size=(2, 2)))\n",
    "model.add(layers.Flatten())\n",
    "model.add(layers.Dense(64, activation='relu'))\n",
    "model.add(layers.Dense(10, activation='softmax'))\n",
    "\n",
    "# Compile the model\n",
    "model.compile(loss=tf.keras.losses.categorical_crossentropy,\n",
    "              optimizer=tf.keras.optimizers.Adam(),\n",
    "              metrics=['accuracy'])\n"
   ]
  },
  {
   "cell_type": "code",
   "execution_count": 38,
   "id": "f9a27af1",
   "metadata": {},
   "outputs": [
    {
     "name": "stdout",
     "output_type": "stream",
     "text": [
      "Epoch 1/10\n",
      "329/329 [==============================] - 14s 42ms/step - loss: 0.1733 - accuracy: 0.9592 - val_loss: 0.0730 - val_accuracy: 0.9796\n",
      "Epoch 2/10\n",
      "329/329 [==============================] - 13s 40ms/step - loss: 0.0534 - accuracy: 0.9847 - val_loss: 0.0527 - val_accuracy: 0.9856\n",
      "Epoch 3/10\n",
      "329/329 [==============================] - 13s 41ms/step - loss: 0.0346 - accuracy: 0.9896 - val_loss: 0.0394 - val_accuracy: 0.9886\n",
      "Epoch 4/10\n",
      "329/329 [==============================] - 13s 40ms/step - loss: 0.0250 - accuracy: 0.9930 - val_loss: 0.0361 - val_accuracy: 0.9899\n",
      "Epoch 5/10\n",
      "329/329 [==============================] - 13s 40ms/step - loss: 0.0178 - accuracy: 0.9950 - val_loss: 0.0300 - val_accuracy: 0.9911\n",
      "Epoch 6/10\n",
      "329/329 [==============================] - 14s 42ms/step - loss: 0.0143 - accuracy: 0.9958 - val_loss: 0.0300 - val_accuracy: 0.9913\n",
      "Epoch 7/10\n",
      "329/329 [==============================] - 14s 42ms/step - loss: 0.0111 - accuracy: 0.9968 - val_loss: 0.0347 - val_accuracy: 0.9908\n",
      "Epoch 8/10\n",
      "329/329 [==============================] - 14s 43ms/step - loss: 0.0087 - accuracy: 0.9976 - val_loss: 0.0285 - val_accuracy: 0.9913\n",
      "Epoch 9/10\n",
      "329/329 [==============================] - 14s 43ms/step - loss: 0.0071 - accuracy: 0.9981 - val_loss: 0.0294 - val_accuracy: 0.9919\n",
      "Epoch 10/10\n",
      "329/329 [==============================] - 14s 42ms/step - loss: 0.0053 - accuracy: 0.9988 - val_loss: 0.0287 - val_accuracy: 0.9923\n"
     ]
    },
    {
     "data": {
      "text/plain": [
       "<keras.callbacks.History at 0x17b8287dc10>"
      ]
     },
     "execution_count": 38,
     "metadata": {},
     "output_type": "execute_result"
    }
   ],
   "source": [
    "# Train the model\n",
    "batch_size = 128\n",
    "epochs = 10\n",
    "\n",
    "model.fit(X_train,Y_train,\n",
    "          batch_size=batch_size,\n",
    "          epochs=epochs,\n",
    "          verbose=1,\n",
    "          validation_data=(X_val,Y_val))\n"
   ]
  },
  {
   "cell_type": "code",
   "execution_count": 39,
   "id": "01969a21",
   "metadata": {
    "scrolled": true
   },
   "outputs": [
    {
     "name": "stdout",
     "output_type": "stream",
     "text": [
      "563/563 [==============================] - 3s 4ms/step\n",
      "Accuracy: 0.9923333333333333\n",
      "Precision: 0.9923734833620174\n",
      "Recall: 0.9923108350775275\n",
      "F1-score: 0.9923328250432807\n"
     ]
    }
   ],
   "source": [
    "# Evaluate the model\n",
    "y_pred = model.predict(X_val)\n",
    "y_pred_classes = np.argmax(y_pred, axis=1)\n",
    "y_true = np.argmax(Y_val, axis=1)\n",
    "\n",
    "accuracy = accuracy_score(y_true, y_pred_classes)\n",
    "precision = precision_score(y_true, y_pred_classes, average='macro')\n",
    "recall = recall_score(y_true, y_pred_classes, average='macro')\n",
    "f1 = f1_score(y_true, y_pred_classes, average='macro')\n",
    "\n",
    "print('Accuracy:', accuracy)\n",
    "print('Precision:', precision)\n",
    "print('Recall:', recall)\n",
    "print('F1-score:', f1)"
   ]
  },
  {
   "cell_type": "code",
   "execution_count": null,
   "id": "e2908a89",
   "metadata": {},
   "outputs": [],
   "source": []
  }
 ],
 "metadata": {
  "kernelspec": {
   "display_name": "Python 3 (ipykernel)",
   "language": "python",
   "name": "python3"
  },
  "language_info": {
   "codemirror_mode": {
    "name": "ipython",
    "version": 3
   },
   "file_extension": ".py",
   "mimetype": "text/x-python",
   "name": "python",
   "nbconvert_exporter": "python",
   "pygments_lexer": "ipython3",
   "version": "3.9.13"
  }
 },
 "nbformat": 4,
 "nbformat_minor": 5
}
