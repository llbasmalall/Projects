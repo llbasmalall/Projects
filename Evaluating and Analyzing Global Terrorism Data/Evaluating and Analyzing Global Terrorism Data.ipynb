{
 "cells": [
  {
   "cell_type": "code",
   "execution_count": 1,
   "id": "ca6eb07d",
   "metadata": {},
   "outputs": [],
   "source": [
    "import pandas as pd\n",
    "import numpy as np\n",
    "import seaborn as sns\n",
    "from sklearn.model_selection import train_test_split\n",
    "from sklearn.ensemble import RandomForestClassifier"
   ]
  },
  {
   "cell_type": "code",
   "execution_count": 2,
   "id": "4aefcdbb",
   "metadata": {},
   "outputs": [
    {
     "name": "stderr",
     "output_type": "stream",
     "text": [
      "C:\\Users\\Tony\\AppData\\Local\\Temp\\ipykernel_15852\\3546934325.py:1: DtypeWarning: Columns (4,6,31,33,61,62,63,76,79,90,92,94,96,114,115,121) have mixed types. Specify dtype option on import or set low_memory=False.\n",
      "  df = pd.read_csv(r\"C:\\Users\\Tony\\Downloads\\globalterrorismdb_0718dist.csv\", encoding = \"ISO-8859-1\")\n"
     ]
    }
   ],
   "source": [
    "df = pd.read_csv(r\"C:\\Users\\Tony\\Downloads\\globalterrorismdb_0718dist.csv\", encoding = \"ISO-8859-1\")"
   ]
  },
  {
   "cell_type": "code",
   "execution_count": 3,
   "id": "ee92cbed",
   "metadata": {},
   "outputs": [],
   "source": [
    "newdf=df[[\"eventid\",\"iyear\",\"iday\",\"success\",\"attacktype1\",\"targtype1\",\"natlty1\",\"weaptype1\",\"nkill\",\"extended\",\"country\",\"region\",\n",
    "          \"latitude\",\"longitude\",\"specificity\",\"vicinity\",\"crit1\",\"suicide\",\"nperps\",\"weaptype1\"]]"
   ]
  },
  {
   "cell_type": "code",
   "execution_count": 4,
   "id": "0ad6c1f5",
   "metadata": {},
   "outputs": [],
   "source": [
    "ss=newdf.dropna()"
   ]
  },
  {
   "cell_type": "code",
   "execution_count": 5,
   "id": "2833ef49",
   "metadata": {},
   "outputs": [
    {
     "data": {
      "text/plain": [
       "eventid          int64\n",
       "iyear            int64\n",
       "iday             int64\n",
       "success          int64\n",
       "attacktype1      int64\n",
       "targtype1        int64\n",
       "natlty1        float64\n",
       "weaptype1        int64\n",
       "nkill          float64\n",
       "extended         int64\n",
       "country          int64\n",
       "region           int64\n",
       "latitude       float64\n",
       "longitude      float64\n",
       "specificity    float64\n",
       "vicinity         int64\n",
       "crit1            int64\n",
       "suicide          int64\n",
       "nperps         float64\n",
       "weaptype1        int64\n",
       "dtype: object"
      ]
     },
     "execution_count": 5,
     "metadata": {},
     "output_type": "execute_result"
    }
   ],
   "source": [
    "ss.dtypes"
   ]
  },
  {
   "cell_type": "code",
   "execution_count": 6,
   "id": "acfad4cd",
   "metadata": {},
   "outputs": [
    {
     "name": "stderr",
     "output_type": "stream",
     "text": [
      "C:\\Users\\Tony\\anaconda3\\lib\\site-packages\\seaborn\\_decorators.py:36: FutureWarning: Pass the following variables as keyword args: x, y. From version 0.12, the only valid positional argument will be `data`, and passing other arguments without an explicit keyword will result in an error or misinterpretation.\n",
      "  warnings.warn(\n"
     ]
    },
    {
     "data": {
      "text/plain": [
       "1    161632\n",
       "0     20059\n",
       "Name: success, dtype: int64"
      ]
     },
     "execution_count": 6,
     "metadata": {},
     "output_type": "execute_result"
    },
    {
     "data": {
      "image/png": "[encoded data removed]",
      "text/plain": [
       "<Figure size 640x480 with 1 Axes>"
      ]
     },
     "metadata": {},
     "output_type": "display_data"
    }
   ],
   "source": [
    "y = df.success.value_counts()\n",
    "sns.barplot(y.index, y.values)\n",
    "y"
   ]
  },
  {
   "cell_type": "code",
   "execution_count": 7,
   "id": "5c36c83f",
   "metadata": {},
   "outputs": [
    {
     "data": {
      "text/html": [
       "<div>\n",
       "<style scoped>\n",
       "    .dataframe tbody tr th:only-of-type {\n",
       "        vertical-align: middle;\n",
       "    }\n",
       "\n",
       "    .dataframe tbody tr th {\n",
       "        vertical-align: top;\n",
       "    }\n",
       "\n",
       "    .dataframe thead th {\n",
       "        text-align: right;\n",
       "    }\n",
       "</style>\n",
       "<table border=\"1\" class=\"dataframe\">\n",
       "  <thead>\n",
       "    <tr style=\"text-align: right;\">\n",
       "      <th></th>\n",
       "      <th>eventid</th>\n",
       "      <th>iyear</th>\n",
       "      <th>iday</th>\n",
       "      <th>attacktype1</th>\n",
       "      <th>targtype1</th>\n",
       "      <th>natlty1</th>\n",
       "      <th>weaptype1</th>\n",
       "      <th>nkill</th>\n",
       "      <th>extended</th>\n",
       "      <th>country</th>\n",
       "      <th>region</th>\n",
       "      <th>latitude</th>\n",
       "      <th>longitude</th>\n",
       "      <th>specificity</th>\n",
       "      <th>vicinity</th>\n",
       "      <th>crit1</th>\n",
       "      <th>suicide</th>\n",
       "      <th>nperps</th>\n",
       "      <th>weaptype1</th>\n",
       "    </tr>\n",
       "  </thead>\n",
       "  <tbody>\n",
       "    <tr>\n",
       "      <th>1</th>\n",
       "      <td>197000000002</td>\n",
       "      <td>1970</td>\n",
       "      <td>0</td>\n",
       "      <td>6</td>\n",
       "      <td>7</td>\n",
       "      <td>21.0</td>\n",
       "      <td>13</td>\n",
       "      <td>0.0</td>\n",
       "      <td>0</td>\n",
       "      <td>130</td>\n",
       "      <td>1</td>\n",
       "      <td>19.371887</td>\n",
       "      <td>-99.086624</td>\n",
       "      <td>1.0</td>\n",
       "      <td>0</td>\n",
       "      <td>1</td>\n",
       "      <td>0</td>\n",
       "      <td>7.0</td>\n",
       "      <td>13</td>\n",
       "    </tr>\n",
       "    <tr>\n",
       "      <th>5</th>\n",
       "      <td>197001010002</td>\n",
       "      <td>1970</td>\n",
       "      <td>1</td>\n",
       "      <td>2</td>\n",
       "      <td>3</td>\n",
       "      <td>217.0</td>\n",
       "      <td>5</td>\n",
       "      <td>0.0</td>\n",
       "      <td>0</td>\n",
       "      <td>217</td>\n",
       "      <td>1</td>\n",
       "      <td>37.005105</td>\n",
       "      <td>-89.176269</td>\n",
       "      <td>1.0</td>\n",
       "      <td>0</td>\n",
       "      <td>1</td>\n",
       "      <td>0</td>\n",
       "      <td>-99.0</td>\n",
       "      <td>5</td>\n",
       "    </tr>\n",
       "    <tr>\n",
       "      <th>6</th>\n",
       "      <td>197001020001</td>\n",
       "      <td>1970</td>\n",
       "      <td>2</td>\n",
       "      <td>1</td>\n",
       "      <td>3</td>\n",
       "      <td>218.0</td>\n",
       "      <td>5</td>\n",
       "      <td>0.0</td>\n",
       "      <td>0</td>\n",
       "      <td>218</td>\n",
       "      <td>3</td>\n",
       "      <td>-34.891151</td>\n",
       "      <td>-56.187214</td>\n",
       "      <td>1.0</td>\n",
       "      <td>0</td>\n",
       "      <td>1</td>\n",
       "      <td>0</td>\n",
       "      <td>3.0</td>\n",
       "      <td>5</td>\n",
       "    </tr>\n",
       "    <tr>\n",
       "      <th>7</th>\n",
       "      <td>197001020002</td>\n",
       "      <td>1970</td>\n",
       "      <td>2</td>\n",
       "      <td>3</td>\n",
       "      <td>21</td>\n",
       "      <td>217.0</td>\n",
       "      <td>6</td>\n",
       "      <td>0.0</td>\n",
       "      <td>0</td>\n",
       "      <td>217</td>\n",
       "      <td>1</td>\n",
       "      <td>37.791927</td>\n",
       "      <td>-122.225906</td>\n",
       "      <td>1.0</td>\n",
       "      <td>0</td>\n",
       "      <td>1</td>\n",
       "      <td>0</td>\n",
       "      <td>-99.0</td>\n",
       "      <td>6</td>\n",
       "    </tr>\n",
       "    <tr>\n",
       "      <th>8</th>\n",
       "      <td>197001020003</td>\n",
       "      <td>1970</td>\n",
       "      <td>2</td>\n",
       "      <td>7</td>\n",
       "      <td>4</td>\n",
       "      <td>217.0</td>\n",
       "      <td>8</td>\n",
       "      <td>0.0</td>\n",
       "      <td>0</td>\n",
       "      <td>217</td>\n",
       "      <td>1</td>\n",
       "      <td>43.076592</td>\n",
       "      <td>-89.412488</td>\n",
       "      <td>1.0</td>\n",
       "      <td>0</td>\n",
       "      <td>1</td>\n",
       "      <td>0</td>\n",
       "      <td>1.0</td>\n",
       "      <td>8</td>\n",
       "    </tr>\n",
       "    <tr>\n",
       "      <th>...</th>\n",
       "      <td>...</td>\n",
       "      <td>...</td>\n",
       "      <td>...</td>\n",
       "      <td>...</td>\n",
       "      <td>...</td>\n",
       "      <td>...</td>\n",
       "      <td>...</td>\n",
       "      <td>...</td>\n",
       "      <td>...</td>\n",
       "      <td>...</td>\n",
       "      <td>...</td>\n",
       "      <td>...</td>\n",
       "      <td>...</td>\n",
       "      <td>...</td>\n",
       "      <td>...</td>\n",
       "      <td>...</td>\n",
       "      <td>...</td>\n",
       "      <td>...</td>\n",
       "      <td>...</td>\n",
       "    </tr>\n",
       "    <tr>\n",
       "      <th>181686</th>\n",
       "      <td>201712310022</td>\n",
       "      <td>2017</td>\n",
       "      <td>31</td>\n",
       "      <td>2</td>\n",
       "      <td>4</td>\n",
       "      <td>182.0</td>\n",
       "      <td>5</td>\n",
       "      <td>1.0</td>\n",
       "      <td>0</td>\n",
       "      <td>182</td>\n",
       "      <td>11</td>\n",
       "      <td>2.359673</td>\n",
       "      <td>45.385034</td>\n",
       "      <td>2.0</td>\n",
       "      <td>0</td>\n",
       "      <td>1</td>\n",
       "      <td>0</td>\n",
       "      <td>-99.0</td>\n",
       "      <td>5</td>\n",
       "    </tr>\n",
       "    <tr>\n",
       "      <th>181687</th>\n",
       "      <td>201712310029</td>\n",
       "      <td>2017</td>\n",
       "      <td>31</td>\n",
       "      <td>3</td>\n",
       "      <td>4</td>\n",
       "      <td>167.0</td>\n",
       "      <td>6</td>\n",
       "      <td>2.0</td>\n",
       "      <td>0</td>\n",
       "      <td>200</td>\n",
       "      <td>10</td>\n",
       "      <td>35.407278</td>\n",
       "      <td>35.942679</td>\n",
       "      <td>1.0</td>\n",
       "      <td>1</td>\n",
       "      <td>1</td>\n",
       "      <td>0</td>\n",
       "      <td>-99.0</td>\n",
       "      <td>6</td>\n",
       "    </tr>\n",
       "    <tr>\n",
       "      <th>181688</th>\n",
       "      <td>201712310030</td>\n",
       "      <td>2017</td>\n",
       "      <td>31</td>\n",
       "      <td>7</td>\n",
       "      <td>14</td>\n",
       "      <td>160.0</td>\n",
       "      <td>8</td>\n",
       "      <td>0.0</td>\n",
       "      <td>0</td>\n",
       "      <td>160</td>\n",
       "      <td>5</td>\n",
       "      <td>6.900742</td>\n",
       "      <td>124.437908</td>\n",
       "      <td>2.0</td>\n",
       "      <td>0</td>\n",
       "      <td>1</td>\n",
       "      <td>0</td>\n",
       "      <td>-99.0</td>\n",
       "      <td>8</td>\n",
       "    </tr>\n",
       "    <tr>\n",
       "      <th>181689</th>\n",
       "      <td>201712310031</td>\n",
       "      <td>2017</td>\n",
       "      <td>31</td>\n",
       "      <td>3</td>\n",
       "      <td>2</td>\n",
       "      <td>92.0</td>\n",
       "      <td>6</td>\n",
       "      <td>0.0</td>\n",
       "      <td>0</td>\n",
       "      <td>92</td>\n",
       "      <td>6</td>\n",
       "      <td>24.798346</td>\n",
       "      <td>93.940430</td>\n",
       "      <td>1.0</td>\n",
       "      <td>0</td>\n",
       "      <td>1</td>\n",
       "      <td>0</td>\n",
       "      <td>-99.0</td>\n",
       "      <td>6</td>\n",
       "    </tr>\n",
       "    <tr>\n",
       "      <th>181690</th>\n",
       "      <td>201712310032</td>\n",
       "      <td>2017</td>\n",
       "      <td>31</td>\n",
       "      <td>3</td>\n",
       "      <td>20</td>\n",
       "      <td>160.0</td>\n",
       "      <td>6</td>\n",
       "      <td>0.0</td>\n",
       "      <td>0</td>\n",
       "      <td>160</td>\n",
       "      <td>5</td>\n",
       "      <td>7.209594</td>\n",
       "      <td>124.241966</td>\n",
       "      <td>1.0</td>\n",
       "      <td>0</td>\n",
       "      <td>1</td>\n",
       "      <td>0</td>\n",
       "      <td>-99.0</td>\n",
       "      <td>6</td>\n",
       "    </tr>\n",
       "  </tbody>\n",
       "</table>\n",
       "<p>104040 rows × 19 columns</p>\n",
       "</div>"
      ],
      "text/plain": [
       "             eventid  iyear  iday  attacktype1  targtype1  natlty1  weaptype1  \\\n",
       "1       197000000002   1970     0            6          7     21.0         13   \n",
       "5       197001010002   1970     1            2          3    217.0          5   \n",
       "6       197001020001   1970     2            1          3    218.0          5   \n",
       "7       197001020002   1970     2            3         21    217.0          6   \n",
       "8       197001020003   1970     2            7          4    217.0          8   \n",
       "...              ...    ...   ...          ...        ...      ...        ...   \n",
       "181686  201712310022   2017    31            2          4    182.0          5   \n",
       "181687  201712310029   2017    31            3          4    167.0          6   \n",
       "181688  201712310030   2017    31            7         14    160.0          8   \n",
       "181689  201712310031   2017    31            3          2     92.0          6   \n",
       "181690  201712310032   2017    31            3         20    160.0          6   \n",
       "\n",
       "        nkill  extended  country  region   latitude   longitude  specificity  \\\n",
       "1         0.0         0      130       1  19.371887  -99.086624          1.0   \n",
       "5         0.0         0      217       1  37.005105  -89.176269          1.0   \n",
       "6         0.0         0      218       3 -34.891151  -56.187214          1.0   \n",
       "7         0.0         0      217       1  37.791927 -122.225906          1.0   \n",
       "8         0.0         0      217       1  43.076592  -89.412488          1.0   \n",
       "...       ...       ...      ...     ...        ...         ...          ...   \n",
       "181686    1.0         0      182      11   2.359673   45.385034          2.0   \n",
       "181687    2.0         0      200      10  35.407278   35.942679          1.0   \n",
       "181688    0.0         0      160       5   6.900742  124.437908          2.0   \n",
       "181689    0.0         0       92       6  24.798346   93.940430          1.0   \n",
       "181690    0.0         0      160       5   7.209594  124.241966          1.0   \n",
       "\n",
       "        vicinity  crit1  suicide  nperps  weaptype1  \n",
       "1              0      1        0     7.0         13  \n",
       "5              0      1        0   -99.0          5  \n",
       "6              0      1        0     3.0          5  \n",
       "7              0      1        0   -99.0          6  \n",
       "8              0      1        0     1.0          8  \n",
       "...          ...    ...      ...     ...        ...  \n",
       "181686         0      1        0   -99.0          5  \n",
       "181687         1      1        0   -99.0          6  \n",
       "181688         0      1        0   -99.0          8  \n",
       "181689         0      1        0   -99.0          6  \n",
       "181690         0      1        0   -99.0          6  \n",
       "\n",
       "[104040 rows x 19 columns]"
      ]
     },
     "execution_count": 7,
     "metadata": {},
     "output_type": "execute_result"
    }
   ],
   "source": [
    "X = ss.drop(['success'], axis=1, inplace=False)  \n",
    "X"
   ]
  },
  {
   "cell_type": "code",
   "execution_count": 8,
   "id": "4e819c81",
   "metadata": {},
   "outputs": [
    {
     "data": {
      "text/plain": [
       "1         1\n",
       "5         1\n",
       "6         0\n",
       "7         1\n",
       "8         1\n",
       "         ..\n",
       "181686    1\n",
       "181687    1\n",
       "181688    1\n",
       "181689    0\n",
       "181690    0\n",
       "Name: success, Length: 104040, dtype: int64"
      ]
     },
     "execution_count": 8,
     "metadata": {},
     "output_type": "execute_result"
    }
   ],
   "source": [
    "Y=ss['success']\n",
    "Y"
   ]
  },
  {
   "cell_type": "markdown",
   "id": "ede091a7",
   "metadata": {},
   "source": [
    "# Modeling:"
   ]
  },
  {
   "cell_type": "markdown",
   "id": "4b9c31fe",
   "metadata": {},
   "source": [
    "## Decision Tree Classifier"
   ]
  },
  {
   "cell_type": "code",
   "execution_count": 15,
   "id": "60c75e1f",
   "metadata": {},
   "outputs": [
    {
     "name": "stdout",
     "output_type": "stream",
     "text": [
      "        Actual  predictions\n",
      "135079       1            1\n",
      "151904       1            1\n",
      "173677       1            1\n",
      "169196       1            1\n",
      "148161       1            1\n",
      "...        ...          ...\n",
      "166869       1            1\n",
      "135081       1            1\n",
      "164899       0            1\n",
      "72240        1            1\n",
      "180401       1            1\n",
      "\n",
      "[31212 rows x 2 columns]\n",
      "Misclassified samples: 3556\n",
      "Total Accuracy :  90.0\n"
     ]
    }
   ],
   "source": [
    "X_train_DT, X_test_DT, y_train_DT, y_test_DT = train_test_split( X, Y, test_size = 0.3, random_state = 100)\n",
    "# import the regressor \n",
    "from sklearn.tree import DecisionTreeClassifier \n",
    "# create a regressor object \n",
    "decision_Tree_Classifier = DecisionTreeClassifier (random_state = 0) \n",
    "decision_Tree_Classifier.fit(X_train_DT, y_train_DT) \n",
    "# predicting a new value \n",
    "# test the output \n",
    "y_pred_DT = decision_Tree_Classifier.predict(X_test_DT) \n",
    "\n",
    "final_model_predictions_DT = pd.DataFrame({'Actual':y_test_DT, 'predictions':y_pred_DT})\n",
    "print(final_model_predictions_DT)\n",
    "\n",
    "# how did our model perform?\n",
    "count_misclassified = (y_test_DT != y_pred_DT).sum()\n",
    "print('Misclassified samples: {}'.format(count_misclassified))\n",
    "accuracy_DT = np.round(metrics.accuracy_score(y_test_DT, y_pred_DT),1)*100\n",
    "print( 'Total Accuracy : ',accuracy_DT)"
   ]
  },
  {
   "cell_type": "markdown",
   "id": "b1a4da21",
   "metadata": {},
   "source": [
    "## Logistic Regression"
   ]
  },
  {
   "cell_type": "code",
   "execution_count": 56,
   "id": "3a66d67c",
   "metadata": {},
   "outputs": [
    {
     "name": "stdout",
     "output_type": "stream",
     "text": [
      "        Actual  predictions\n",
      "135079       1            1\n",
      "151904       1            1\n",
      "173677       1            1\n",
      "169196       1            1\n",
      "148161       1            1\n",
      "...        ...          ...\n",
      "166869       1            1\n",
      "135081       1            1\n",
      "164899       0            1\n",
      "72240        1            1\n",
      "180401       1            1\n",
      "\n",
      "[31212 rows x 2 columns]\n",
      "Misclassified samples: 4093\n",
      "Accuracy: 0.87\n"
     ]
    }
   ],
   "source": [
    "X_train_LR, X_test_LR, y_train_LR, y_test_LR = train_test_split( X, Y, test_size = 0.3, random_state = 100)\n",
    "\n",
    "from sklearn.linear_model import LogisticRegression\n",
    "logmodel = LogisticRegression()\n",
    "logmodel.fit(X_train_LR, y_train_LR)\n",
    "predictions_LR = logmodel.predict(X_test_LR)\n",
    "\n",
    "final_model_predictions_LR = pd.DataFrame({'Actual':y_test_LR, 'predictions':predictions_LR})\n",
    "print(final_model_predictions_LR)\n",
    "\n",
    "count_misclassified = (y_test_LR != predictions_LR).sum()\n",
    "print('Misclassified samples: {}'.format(count_misclassified))\n",
    "accuracy_LR = metrics.accuracy_score(y_test_LR, predictions_LR)\n",
    "print('Accuracy: {:.2f}'.format(accuracy))"
   ]
  },
  {
   "cell_type": "markdown",
   "id": "3fccbfe7",
   "metadata": {},
   "source": [
    "## Naive Bayes"
   ]
  },
  {
   "cell_type": "code",
   "execution_count": 35,
   "id": "0060f574",
   "metadata": {},
   "outputs": [
    {
     "name": "stdout",
     "output_type": "stream",
     "text": [
      "        Actual  predictions\n",
      "135079       1            1\n",
      "151904       1            1\n",
      "173677       1            1\n",
      "169196       1            1\n",
      "148161       1            1\n",
      "...        ...          ...\n",
      "166869       1            1\n",
      "135081       1            1\n",
      "164899       0            1\n",
      "72240        1            1\n",
      "180401       1            1\n",
      "\n",
      "[31212 rows x 2 columns]\n",
      "Misclassified samples: 4093\n",
      "Accuracy: 86.90\n"
     ]
    }
   ],
   "source": [
    "from sklearn.naive_bayes import GaussianNB\n",
    "X_train_NB, X_test_NB, y_train_NB, y_test_NB = train_test_split( X, Y, test_size = 0.3, random_state = 100)\n",
    "\n",
    "gnb = GaussianNB()\n",
    "gnb.fit(X_train_NB, y_train_NB)\n",
    "y_pred_NB=gnb.predict(X_test_NB)\n",
    "\n",
    "final_model_predictions_NB = pd.DataFrame({'Actual':y_test_NB, 'predictions':y_pred_NB})\n",
    "print(final_model_predictions_NB)\n",
    "\n",
    "count_misclassified = (y_test_NB != y_pred_NB).sum()\n",
    "print('Misclassified samples: {}'.format(count_misclassified))\n",
    "accuracy_NB = metrics.accuracy_score(y_test_NB, y_pred_NB)\n",
    "accuracy_NB='{:.3f}'.format(accuracy_NB)\n",
    "accuracy_NB = float(accuracy_NB)*100\n",
    "print('Accuracy: {:.2f}'.format(accuracy_NB))"
   ]
  },
  {
   "cell_type": "markdown",
   "id": "8048bb86",
   "metadata": {},
   "source": [
    "## Random Forest"
   ]
  },
  {
   "cell_type": "code",
   "execution_count": 58,
   "id": "8ea23d3e",
   "metadata": {},
   "outputs": [
    {
     "name": "stdout",
     "output_type": "stream",
     "text": [
      "        Actual  predictions\n",
      "135079       1            1\n",
      "151904       1            1\n",
      "173677       1            1\n",
      "169196       1            1\n",
      "148161       1            1\n",
      "...        ...          ...\n",
      "166869       1            1\n",
      "135081       1            1\n",
      "164899       0            1\n",
      "72240        1            1\n",
      "180401       1            1\n",
      "\n",
      "[31212 rows x 2 columns]\n",
      "Misclassified samples: 2310\n",
      "Accuracy: 0.9260\n"
     ]
    }
   ],
   "source": [
    "X_train_RF, X_test_RF, y_train_RF, y_test_RF = train_test_split( X, Y, test_size = 0.3, random_state = 100)\n",
    "clf = RandomForestClassifier(n_estimators = 500, random_state = 42)\n",
    "# Instantiate model with 1000 decision trees\n",
    "clf = RandomForestClassifier(n_estimators = 1000, random_state = 42)\n",
    "# Train the model on training data\n",
    "clf.fit(X_train_RF, y_train_RF);\n",
    "# use the model to make predictions with the test data\n",
    "y_pred_RF = clf.predict(X_test_RF)\n",
    "# combining 2 numpy arrays into one pandas dataframe\n",
    "final_model_predictions_RF = pd.DataFrame({'Actual':y_test_RF, 'predictions':y_pred_RF})\n",
    "print(final_model_predictions_RF)\n",
    "\n",
    "# how did our model perform?\n",
    "count_misclassified = (y_test_RF != y_pred_RF).sum()\n",
    "print('Misclassified samples: {}'.format(count_misclassified))\n",
    "accuracy_RF = metrics.accuracy_score(y_test_RF, y_pred_RF)\n",
    "print('Accuracy: {:.4f}'.format(accuracy_RF))"
   ]
  },
  {
   "cell_type": "markdown",
   "id": "25eca2d3",
   "metadata": {},
   "source": [
    "# Evaluation Metric:"
   ]
  },
  {
   "cell_type": "code",
   "execution_count": 22,
   "id": "a3fa618d",
   "metadata": {},
   "outputs": [],
   "source": [
    "from sklearn import metrics\n",
    "from sklearn.metrics import classification_report, confusion_matrix\n",
    "import seaborn as sns\n",
    "import matplotlib.pyplot as plt\n",
    "\n",
    "def draw_cm( actual, predicted ):\n",
    "    cm = metrics.confusion_matrix( actual, predicted )\n",
    "    sns.heatmap(cm, annot=True,  fmt='.2f', xticklabels = [\"Default\", \"No Default\"] , yticklabels = [\"Default\", \"No Default\"] )\n",
    "    plt.ylabel('True label')\n",
    "    plt.xlabel('Predicted label')\n",
    "    plt.show()  # correct 0 is sensitivity and correct is specificity"
   ]
  },
  {
   "cell_type": "markdown",
   "id": "9007f8fa",
   "metadata": {},
   "source": [
    "## Decision Tree Classifier"
   ]
  },
  {
   "cell_type": "code",
   "execution_count": 23,
   "id": "927beed1",
   "metadata": {},
   "outputs": [
    {
     "name": "stdout",
     "output_type": "stream",
     "text": [
      "[[ 2411  1682]\n",
      " [ 1874 25245]]\n",
      "              precision    recall  f1-score   support\n",
      "\n",
      "           0       0.56      0.59      0.58      4093\n",
      "           1       0.94      0.93      0.93     27119\n",
      "\n",
      "    accuracy                           0.89     31212\n",
      "   macro avg       0.75      0.76      0.75     31212\n",
      "weighted avg       0.89      0.89      0.89     31212\n",
      "\n"
     ]
    },
    {
     "data": {
      "image/png": "[encoded data removed]",
      "text/plain": [
       "<Figure size 640x480 with 2 Axes>"
      ]
     },
     "metadata": {},
     "output_type": "display_data"
    },
    {
     "name": "stdout",
     "output_type": "stream",
     "text": [
      "Total Accuracy :  90.00\n",
      "recall 0.8860694604639241\n",
      "Precision 0.8860694604639241\n"
     ]
    }
   ],
   "source": [
    "print(confusion_matrix(y_test_DT, y_pred_DT))\n",
    "print(classification_report(y_test_DT, y_pred_DT))\n",
    "draw_cm( final_model_predictions_DT.Actual, final_model_predictions_DT.predictions ) \n",
    "\n",
    "\n",
    "accuracy_DT=np.round( metrics.accuracy_score( final_model_predictions_DT.Actual, final_model_predictions_DT.predictions  ),1)*100\n",
    "accuracy_DT='{:.2f}'.format(accuracy_DT)\n",
    "print( 'Total Accuracy : ',accuracy_DT)\n",
    "recall_DT=metrics.recall_score(final_model_predictions_DT.Actual, final_model_predictions_DT.predictions,average='micro' )\n",
    "print('recall',recall_DT)\n",
    "Precision_DT=metrics.precision_score(final_model_predictions_DT.Actual, final_model_predictions_DT.predictions,average='micro' )\n",
    "print('Precision',Precision_DT)"
   ]
  },
  {
   "cell_type": "markdown",
   "id": "d2ee1a90",
   "metadata": {},
   "source": [
    "## Logistic Regression"
   ]
  },
  {
   "cell_type": "code",
   "execution_count": 57,
   "id": "755a2164",
   "metadata": {},
   "outputs": [
    {
     "name": "stdout",
     "output_type": "stream",
     "text": [
      "[[    0  4093]\n",
      " [    0 27119]]\n",
      "              precision    recall  f1-score   support\n",
      "\n",
      "           0       0.00      0.00      0.00      4093\n",
      "           1       0.87      1.00      0.93     27119\n",
      "\n",
      "    accuracy                           0.87     31212\n",
      "   macro avg       0.43      0.50      0.46     31212\n",
      "weighted avg       0.75      0.87      0.81     31212\n",
      "\n"
     ]
    },
    {
     "name": "stderr",
     "output_type": "stream",
     "text": [
      "C:\\Users\\Tony\\anaconda3\\lib\\site-packages\\sklearn\\metrics\\_classification.py:1318: UndefinedMetricWarning: Precision and F-score are ill-defined and being set to 0.0 in labels with no predicted samples. Use `zero_division` parameter to control this behavior.\n",
      "  _warn_prf(average, modifier, msg_start, len(result))\n",
      "C:\\Users\\Tony\\anaconda3\\lib\\site-packages\\sklearn\\metrics\\_classification.py:1318: UndefinedMetricWarning: Precision and F-score are ill-defined and being set to 0.0 in labels with no predicted samples. Use `zero_division` parameter to control this behavior.\n",
      "  _warn_prf(average, modifier, msg_start, len(result))\n",
      "C:\\Users\\Tony\\anaconda3\\lib\\site-packages\\sklearn\\metrics\\_classification.py:1318: UndefinedMetricWarning: Precision and F-score are ill-defined and being set to 0.0 in labels with no predicted samples. Use `zero_division` parameter to control this behavior.\n",
      "  _warn_prf(average, modifier, msg_start, len(result))\n"
     ]
    },
    {
     "data": {
      "image/png": "[encoded data removed]",
      "text/plain": [
       "<Figure size 640x480 with 2 Axes>"
      ]
     },
     "metadata": {},
     "output_type": "display_data"
    },
    {
     "name": "stdout",
     "output_type": "stream",
     "text": [
      "Total Accuracy :  87.00\n",
      "recall 0.8688645392797641\n",
      "Precision 0.8688645392797641\n"
     ]
    }
   ],
   "source": [
    "print(confusion_matrix(y_test_LR, predictions_LR))\n",
    "print(classification_report(y_test_LR, predictions_LR))\n",
    "draw_cm( final_model_predictions_LR.Actual, final_model_predictions_LR.predictions ) \n",
    "\n",
    "accuracy_LR=np.round(metrics.accuracy_score( final_model_predictions_LR.Actual, final_model_predictions_LR.predictions ),2 )*100\n",
    "accuracy_LR='{:.2f}'.format(accuracy_LR)\n",
    "print( 'Total Accuracy : ',accuracy_LR)\n",
    "recall_LR=metrics.recall_score(final_model_predictions_LR.Actual, final_model_predictions_LR.predictions,average='micro' )\n",
    "print('recall',recall_LR)\n",
    "Precision_LR=metrics.precision_score(final_model_predictions_LR.Actual, final_model_predictions_LR.predictions,average='micro' )\n",
    "print('Precision',Precision_LR)"
   ]
  },
  {
   "cell_type": "markdown",
   "id": "dc5e51e1",
   "metadata": {},
   "source": [
    "## Naive Bayes"
   ]
  },
  {
   "cell_type": "code",
   "execution_count": 36,
   "id": "6a057de8",
   "metadata": {},
   "outputs": [
    {
     "name": "stdout",
     "output_type": "stream",
     "text": [
      "[[    0  4093]\n",
      " [    0 27119]]\n",
      "              precision    recall  f1-score   support\n",
      "\n",
      "           0       0.00      0.00      0.00      4093\n",
      "           1       0.87      1.00      0.93     27119\n",
      "\n",
      "    accuracy                           0.87     31212\n",
      "   macro avg       0.43      0.50      0.46     31212\n",
      "weighted avg       0.75      0.87      0.81     31212\n",
      "\n"
     ]
    },
    {
     "name": "stderr",
     "output_type": "stream",
     "text": [
      "C:\\Users\\Tony\\anaconda3\\lib\\site-packages\\sklearn\\metrics\\_classification.py:1318: UndefinedMetricWarning: Precision and F-score are ill-defined and being set to 0.0 in labels with no predicted samples. Use `zero_division` parameter to control this behavior.\n",
      "  _warn_prf(average, modifier, msg_start, len(result))\n",
      "C:\\Users\\Tony\\anaconda3\\lib\\site-packages\\sklearn\\metrics\\_classification.py:1318: UndefinedMetricWarning: Precision and F-score are ill-defined and being set to 0.0 in labels with no predicted samples. Use `zero_division` parameter to control this behavior.\n",
      "  _warn_prf(average, modifier, msg_start, len(result))\n",
      "C:\\Users\\Tony\\anaconda3\\lib\\site-packages\\sklearn\\metrics\\_classification.py:1318: UndefinedMetricWarning: Precision and F-score are ill-defined and being set to 0.0 in labels with no predicted samples. Use `zero_division` parameter to control this behavior.\n",
      "  _warn_prf(average, modifier, msg_start, len(result))\n"
     ]
    },
    {
     "data": {
      "image/png": "[encoded data removed]",
      "text/plain": [
       "<Figure size 640x480 with 2 Axes>"
      ]
     },
     "metadata": {},
     "output_type": "display_data"
    },
    {
     "name": "stdout",
     "output_type": "stream",
     "text": [
      "Total Accuracy :  86.90\n",
      "recall 0.8688645392797641\n",
      "Precision 0.8688645392797641\n"
     ]
    }
   ],
   "source": [
    "print(confusion_matrix(y_test_NB, y_pred_NB))\n",
    "print(classification_report(y_test_NB, y_pred_NB))\n",
    "draw_cm( final_model_predictions_NB.Actual, final_model_predictions_NB.predictions ) \n",
    "\n",
    "\n",
    "accuracy_NB='{:.2f}'.format(accuracy_NB)\n",
    "print( 'Total Accuracy : ',accuracy_NB)\n",
    "recall_NB=metrics.recall_score(final_model_predictions_NB.Actual, final_model_predictions_NB.predictions,average='micro' )\n",
    "print('recall',recall_NB)\n",
    "Precision_NB=metrics.precision_score(final_model_predictions_NB.Actual, final_model_predictions_NB.predictions,average='micro' )\n",
    "print('Precision',Precision_NB)"
   ]
  },
  {
   "cell_type": "markdown",
   "id": "7b762312",
   "metadata": {},
   "source": [
    "## Random Forest"
   ]
  },
  {
   "cell_type": "code",
   "execution_count": 59,
   "id": "e4292470",
   "metadata": {},
   "outputs": [
    {
     "name": "stdout",
     "output_type": "stream",
     "text": [
      "[[ 2239  1854]\n",
      " [  456 26663]]\n",
      "              precision    recall  f1-score   support\n",
      "\n",
      "           0       0.83      0.55      0.66      4093\n",
      "           1       0.93      0.98      0.96     27119\n",
      "\n",
      "    accuracy                           0.93     31212\n",
      "   macro avg       0.88      0.77      0.81     31212\n",
      "weighted avg       0.92      0.93      0.92     31212\n",
      "\n"
     ]
    },
    {
     "data": {
      "image/png": "[encoded data removed]",
      "text/plain": [
       "<Figure size 640x480 with 2 Axes>"
      ]
     },
     "metadata": {},
     "output_type": "display_data"
    },
    {
     "name": "stdout",
     "output_type": "stream",
     "text": [
      "Total Accuracy :  93.00\n",
      "recall : 0.9831852206939784\n",
      "Precision : 0.934986148613108\n"
     ]
    }
   ],
   "source": [
    "print(confusion_matrix(y_test_RF, y_pred_RF))\n",
    "print(classification_report(y_test_RF, y_pred_RF))\n",
    "draw_cm( final_model_predictions_RF.Actual, final_model_predictions_RF.predictions )   # correct 0 is sensitivity and correct is specificity\n",
    "\n",
    "accuracy_RF=np.round( metrics.accuracy_score( final_model_predictions_RF.Actual, final_model_predictions_RF.predictions  ),2)*100\n",
    "accuracy_RF='{:.2f}'.format(accuracy_RF)\n",
    "print( 'Total Accuracy : ',accuracy_RF )\n",
    "recall_RF=metrics.recall_score(final_model_predictions_RF.Actual, final_model_predictions_RF.predictions )\n",
    "print('recall :',recall_RF)\n",
    "precision_RF=metrics.precision_score(final_model_predictions_RF.Actual, final_model_predictions_RF.predictions )\n",
    "print('Precision :',precision_RF)"
   ]
  },
  {
   "cell_type": "code",
   "execution_count": 63,
   "id": "4f7dce9d",
   "metadata": {},
   "outputs": [
    {
     "data": {
      "text/html": [
       "<div>\n",
       "<style scoped>\n",
       "    .dataframe tbody tr th:only-of-type {\n",
       "        vertical-align: middle;\n",
       "    }\n",
       "\n",
       "    .dataframe tbody tr th {\n",
       "        vertical-align: top;\n",
       "    }\n",
       "\n",
       "    .dataframe thead th {\n",
       "        text-align: right;\n",
       "    }\n",
       "</style>\n",
       "<table border=\"1\" class=\"dataframe\">\n",
       "  <thead>\n",
       "    <tr style=\"text-align: right;\">\n",
       "      <th></th>\n",
       "      <th>Accuracy</th>\n",
       "      <th>Recall</th>\n",
       "      <th>Precision</th>\n",
       "    </tr>\n",
       "  </thead>\n",
       "  <tbody>\n",
       "    <tr>\n",
       "      <th>Random Forest</th>\n",
       "      <td>93.00</td>\n",
       "      <td>0.983185</td>\n",
       "      <td>0.934986</td>\n",
       "    </tr>\n",
       "    <tr>\n",
       "      <th>Decision Tree Classifier</th>\n",
       "      <td>90.00</td>\n",
       "      <td>0.886069</td>\n",
       "      <td>0.886069</td>\n",
       "    </tr>\n",
       "    <tr>\n",
       "      <th>Logistic Regression</th>\n",
       "      <td>87.00</td>\n",
       "      <td>0.868865</td>\n",
       "      <td>0.868865</td>\n",
       "    </tr>\n",
       "    <tr>\n",
       "      <th>Naive Bayes</th>\n",
       "      <td>86.90</td>\n",
       "      <td>0.868865</td>\n",
       "      <td>0.868865</td>\n",
       "    </tr>\n",
       "  </tbody>\n",
       "</table>\n",
       "</div>"
      ],
      "text/plain": [
       "                         Accuracy    Recall  Precision \n",
       "Random Forest               93.00  0.983185    0.934986\n",
       "Decision Tree Classifier    90.00  0.886069    0.886069\n",
       "Logistic Regression         87.00  0.868865    0.868865\n",
       "Naive Bayes                 86.90  0.868865    0.868865"
      ]
     },
     "execution_count": 63,
     "metadata": {},
     "output_type": "execute_result"
    }
   ],
   "source": [
    "table=pd.DataFrame({\"Accuracy\":[accuracy_RF,accuracy_DT,accuracy_LR,accuracy_NB],\n",
    "                    \"Recall\":[recall_RF,recall_DT,recall_LR,recall_NB],\n",
    "                    \"Precision \":[precision_RF,Precision_DT,Precision_LR,Precision_NB]},\n",
    "                   index=[\"Random Forest\",\"Decision Tree Classifier\",\"Logistic Regression\",\"Naive Bayes\"])\n",
    "table"
   ]
  }
 ],
 "metadata": {
  "kernelspec": {
   "display_name": "Python 3 (ipykernel)",
   "language": "python",
   "name": "python3"
  },
  "language_info": {
   "codemirror_mode": {
    "name": "ipython",
    "version": 3
   },
   "file_extension": ".py",
   "mimetype": "text/x-python",
   "name": "python",
   "nbconvert_exporter": "python",
   "pygments_lexer": "ipython3",
   "version": "3.9.13"
  }
 },
 "nbformat": 4,
 "nbformat_minor": 5
}
